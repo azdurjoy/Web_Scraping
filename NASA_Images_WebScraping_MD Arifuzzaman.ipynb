{
 "cells": [
  {
   "attachments": {},
   "cell_type": "markdown",
   "metadata": {},
   "source": [
    "Nasa Satellite images:\n",
    "\n",
    "Suppose we want to build a Computer vision dataset that involves satellite images. \n",
    "Your tasks are the following:\n",
    "Collect satellite images from  https://earthobservatory.nasa.gov/images\n",
    "Make sure to render the whole page using selenium and then use BeautifulSoup to scrape the data.\n",
    "Create a repo and name it Images, Save the crowled images based on their titles. \n",
    "Create a dictionary where the keys are the images/titles and the values are the images’ descriptions.\n"
   ]
  },
  {
   "cell_type": "code",
   "execution_count": null,
   "metadata": {},
   "outputs": [],
   "source": [
    "import requests\n",
    "import urllib.request\n",
    "import os\n",
    "import string\n",
    "from requests.exceptions import RequestException\n",
    "from urllib3.exceptions import ConnectTimeoutError\n",
    "\n",
    "\n",
    "# Function to save image from URL\n",
    "def save_image(url, filename, directory):\n",
    "    full_path = os.path.join(directory, filename)\n",
    "    urllib.request.urlretrieve(url, full_path)\n",
    "\n",
    "\n",
    "# Function to sanitize filename\n",
    "def sanitize_filename(filename):\n",
    "    valid_chars = \"-_.() %s%s\" % (string.ascii_letters, string.digits)\n",
    "    return ''.join(c if c in valid_chars else '_' for c in filename)\n",
    "\n",
    "\n",
    "# Set image directory\n",
    "image_directory = \"C:\\\\Users\\\\MD Arifuzzaman\\\\Documents\\\\Integrify_Assignment\\\\images\"\n",
    "\n",
    "if not os.path.exists(image_directory):\n",
    "    os.makedirs(image_directory)\n",
    "\n",
    "# Loop through pages\n",
    "for page in range(1, 2960):\n",
    "    page_url = f\"https://earthobservatory.nasa.gov/images/getRecords?page={page}\"\n",
    "    print(f\"\\nPage Number: {page}\")\n",
    "\n",
    "    try:\n",
    "        # Get JSON data for page\n",
    "        headers = {\n",
    "            'User-Agent': 'Mozilla/5.0 (Windows NT 10.0; Win64; x64) AppleWebKit/537.36 (KHTML, like Gecko) Chrome/113.0.0.0 Safari/537.36'\n",
    "        }\n",
    "        response = requests.get(page_url, headers=headers)\n",
    "        response.raise_for_status()\n",
    "        data = response.json()\n",
    "\n",
    "        # Download images from page\n",
    "        for record in data['data']:\n",
    "            image_url = record['image_path'] + record['thumbnail_file']\n",
    "            title = record['title']\n",
    "\n",
    "            # Replace special characters (i.e.: ? or some other) in the title with hyphens\n",
    "            filename = sanitize_filename(title)\n",
    "\n",
    "            # Append the file extension to the filename\n",
    "            file_extension = image_url.split('.')[-1]\n",
    "            filename = f\"{filename}.{file_extension}\"\n",
    "\n",
    "            filepath = os.path.join(image_directory, filename)\n",
    "            if not os.path.exists(filepath):\n",
    "                print(f\"Downloading {filename}...\")\n",
    "                save_image(image_url, filename, image_directory)\n",
    "                print(f\"{filename} downloaded.\")\n",
    "            else:\n",
    "                print(f\"{filename} already downloaded.\")\n",
    "\n",
    "    except requests.exceptions.RequestException as e:\n",
    "        print(f\"Error: {e}, skipping page {page}\")\n",
    "        continue\n",
    "\n",
    "print(\"Image download completed!\")\n"
   ]
  }
 ],
 "metadata": {
  "kernelspec": {
   "display_name": "Python 3",
   "language": "python",
   "name": "python3"
  },
  "language_info": {
   "name": "python",
   "version": "3.11.1"
  },
  "orig_nbformat": 4,
  "vscode": {
   "interpreter": {
    "hash": "0bb128f72f65f49a14308e9d53339f1d3298c55f21eccb341966cf41e8ec217b"
   }
  }
 },
 "nbformat": 4,
 "nbformat_minor": 2
}
