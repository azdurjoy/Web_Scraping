{
 "cells": [
  {
   "attachments": {},
   "cell_type": "markdown",
   "metadata": {},
   "source": [
    "Suppose we want to build a data set for a Computer vision task that involves gender images. \n",
    "Your tasks are the following:\n",
    "Collect 10k male/female images from:\n",
    "https://www.imdb.com\n",
    "Make sure to render the whole page using selenium and then use BeautifulSoup  to scrape the images\n",
    "Create a folder for male/female\n",
    "Each image will be named after the person in the picture\n"
   ]
  },
  {
   "cell_type": "code",
   "execution_count": null,
   "metadata": {},
   "outputs": [],
   "source": [
    "from selenium import webdriver\n",
    "from webdriver_manager.chrome import ChromeDriverManager\n",
    "import time\n",
    "import requests\n",
    "import os\n",
    "import threading\n",
    "\n",
    "driver = webdriver.Chrome(ChromeDriverManager().install())\n",
    "\n",
    "image_data = []  # Store the image data (name and URL)\n",
    "\n",
    "for page in range(1, 101):\n",
    "    url = f'https://www.imdb.com/search/name/?gender=male&has=awards&count=100&start={page * 100}&ref_=rlm'\n",
    "    #url = f'https://www.imdb.com/search/name/?gender=female&has=awards&count=100&start={page * 100}&ref_=rlm'\n",
    "    driver.get(url)\n",
    "    time.sleep(5)\n",
    "\n",
    "    try:\n",
    "        for person in range(1, 101):\n",
    "            name_element = driver.find_element('xpath', f'(//div[@class=\"lister-item-content\"]/h3/a)[{person}]')\n",
    "            name = name_element.text\n",
    "            img_element = driver.find_element('xpath', f'(//div[@class=\"lister-item-image\"]/a/img)[{person}]')\n",
    "            img_src = img_element.get_attribute('src')\n",
    "            image_data.append((name, img_src))\n",
    "\n",
    "        def download_image(count, name, url, save_path):\n",
    "            max_retries = 3\n",
    "            retry_delay = 3  # seconds\n",
    "\n",
    "            for retry in range(1, max_retries + 1):\n",
    "                try:\n",
    "                    response = requests.get(url)\n",
    "                    if response.status_code == 200:\n",
    "                        with open(save_path, 'wb') as f:\n",
    "                            f.write(response.content)\n",
    "                        print(f'Image {count} saved: {save_path}')\n",
    "                        return\n",
    "                    else:\n",
    "                        print(f'Failed to download Image {count}: {save_path}')\n",
    "                        return\n",
    "                except requests.RequestException as e:\n",
    "                    print(f'Error downloading Image {count} (Attempt {retry}/{max_retries}): {str(e)}')\n",
    "                    time.sleep(retry_delay)\n",
    "\n",
    "            print(f'Failed to download Image {count}: {save_path}')\n",
    "\n",
    "        # Create a list to store threads\n",
    "        threads = []\n",
    "        for i, (name, url) in enumerate(image_data, start=1):\n",
    "            file_name = f'{name}.jpg'\n",
    "            save_path = os.path.join('C:\\\\Users\\\\MD Arifuzzaman\\\\Documents\\\\Integrify_Assignment\\\\images', file_name)\n",
    "            thread = threading.Thread(target=download_image, args=(i, name, url, save_path))\n",
    "            thread.start()\n",
    "            threads.append(thread)\n",
    "\n",
    "        # Wait for all threads to complete\n",
    "        for thread in threads:\n",
    "            thread.join()\n",
    "\n",
    "    except Exception as e:\n",
    "        print(f'An error occurred: {str(e)}')\n",
    "\n",
    "# Close the driver\n",
    "driver.quit()\n"
   ]
  }
 ],
 "metadata": {
  "kernelspec": {
   "display_name": "Python 3",
   "language": "python",
   "name": "python3"
  },
  "language_info": {
   "name": "python",
   "version": "3.11.1"
  },
  "orig_nbformat": 4,
  "vscode": {
   "interpreter": {
    "hash": "0bb128f72f65f49a14308e9d53339f1d3298c55f21eccb341966cf41e8ec217b"
   }
  }
 },
 "nbformat": 4,
 "nbformat_minor": 2
}
